{
 "cells": [
  {
   "cell_type": "code",
   "execution_count": 15,
   "metadata": {
    "collapsed": true
   },
   "outputs": [],
   "source": [
    "from nytimesarticle import articleAPI\n",
    "import pandas as pd\n",
    "from bs4 import BeautifulSoup\n",
    "import urllib.request\n",
    "import csv\n",
    "import time"
   ]
  },
  {
   "cell_type": "code",
   "execution_count": 16,
   "metadata": {
    "collapsed": true
   },
   "outputs": [],
   "source": [
    "api = articleAPI('29294a3caf9c4d619d9e06eb19ad8351')"
   ]
  },
  {
   "cell_type": "code",
   "execution_count": 17,
   "metadata": {
    "collapsed": true
   },
   "outputs": [],
   "source": [
    "def scrapeurl(articles):\n",
    "    \n",
    "    result = []\n",
    "    \n",
    "    for i in articles['response']['docs']:\n",
    "        geturl = i['web_url']\n",
    "        result.append(geturl)\n",
    "    \n",
    "    return(result)"
   ]
  },
  {
   "cell_type": "code",
   "execution_count": 18,
   "metadata": {
    "collapsed": true
   },
   "outputs": [],
   "source": [
    "def nytQuerier(f_arg, *argv):\n",
    "    outputdata = []\n",
    "    input = api.search(q = f_arg, begin_date = 20180101)\n",
    "    inputscrape = scrapeurl(input)\n",
    "    outputdata = outputdata + inputscrape\n",
    "    for arg in argv:\n",
    "        time.sleep(5)\n",
    "        input = api.search(q = arg, begin_date = 20180101)\n",
    "        inputscrape = scrapeurl(input)\n",
    "        outputdata = outputdata + inputscrape\n",
    "        \n",
    "    outputdata = set(outputdata)\n",
    "    outputdata = list(outputdata)\n",
    "    \n",
    "    return(outputdata)"
   ]
  },
  {
   "cell_type": "code",
   "execution_count": 19,
   "metadata": {
    "collapsed": true
   },
   "outputs": [],
   "source": [
    "def getArticles(inputdata):\n",
    "    outputlist = []\n",
    "\n",
    "    for articleurl in inputdata:\n",
    "    \n",
    "        r = urllib.request.urlopen(articleurl).read()\n",
    "        soup = BeautifulSoup(r, \"lxml\")\n",
    "        text_iter = soup.findAll('p')\n",
    "    \n",
    "        finaltext = \"\"\n",
    "    \n",
    "        for tag in text_iter:\n",
    "            finaltext = finaltext + tag.getText() + ' '\n",
    "        finaltext = finaltext.replace(\"Advertisement Supported by \", \"\")\n",
    "        outputlist.append(finaltext)\n",
    "    return outputlist"
   ]
  },
  {
   "cell_type": "markdown",
   "metadata": {},
   "source": [
    "## Politics"
   ]
  },
  {
   "cell_type": "code",
   "execution_count": 20,
   "metadata": {
    "collapsed": true
   },
   "outputs": [],
   "source": [
    "getPoliticsData = nytQuerier('mueller', 'cohen', 'trump', 'democrat', 'republican')"
   ]
  },
  {
   "cell_type": "code",
   "execution_count": 21,
   "metadata": {
    "collapsed": true
   },
   "outputs": [],
   "source": [
    "politicsArticles = getArticles(getPoliticsData)"
   ]
  },
  {
   "cell_type": "code",
   "execution_count": 22,
   "metadata": {
    "collapsed": true
   },
   "outputs": [],
   "source": [
    "politics_label = len(politicsArticles) * ['politics']\n",
    "df_politics = pd.DataFrame(politicsArticles, politics_label).reset_index()\n",
    "df_politics.columns = ['label', \"text\"]"
   ]
  },
  {
   "cell_type": "code",
   "execution_count": 23,
   "metadata": {
    "collapsed": true
   },
   "outputs": [],
   "source": [
    "df_politics.to_csv('politics.csv', index=False)"
   ]
  },
  {
   "cell_type": "markdown",
   "metadata": {},
   "source": [
    " ## SPORTS"
   ]
  },
  {
   "cell_type": "code",
   "execution_count": 24,
   "metadata": {
    "collapsed": true
   },
   "outputs": [],
   "source": [
    "getSportsData = nytQuerier('ronaldo', 'superbowl', 'yankees','Lebron','knicks' )"
   ]
  },
  {
   "cell_type": "code",
   "execution_count": 25,
   "metadata": {
    "collapsed": true
   },
   "outputs": [],
   "source": [
    "sportsArticles = getArticles(getSportsData)"
   ]
  },
  {
   "cell_type": "code",
   "execution_count": 26,
   "metadata": {},
   "outputs": [],
   "source": [
    "sports_label = len(sportsArticles) * ['sports']\n",
    "df_sports = pd.DataFrame(sportsArticles, sports_label).reset_index()\n",
    "df_sports.columns = ['label', \"text\"]"
   ]
  },
  {
   "cell_type": "code",
   "execution_count": 27,
   "metadata": {
    "collapsed": true
   },
   "outputs": [],
   "source": [
    "df_sports.to_csv('sports.csv', index=False)"
   ]
  },
  {
   "cell_type": "markdown",
   "metadata": {},
   "source": [
    "## Business"
   ]
  },
  {
   "cell_type": "code",
   "execution_count": 33,
   "metadata": {},
   "outputs": [],
   "source": [
    "getBusinessData = nytQuerier('billion', 'walmart', 'bitcoin', 'warren buffet','amazon')"
   ]
  },
  {
   "cell_type": "code",
   "execution_count": 34,
   "metadata": {
    "collapsed": true
   },
   "outputs": [],
   "source": [
    "businessArticles = getArticles(getBusinessData)"
   ]
  },
  {
   "cell_type": "code",
   "execution_count": 35,
   "metadata": {
    "collapsed": true
   },
   "outputs": [],
   "source": [
    "business_label = len(businessArticles) * ['business']\n",
    "df_business = pd.DataFrame(businessArticles, business_label).reset_index()\n",
    "df_business.columns = ['label', \"text\"]"
   ]
  },
  {
   "cell_type": "code",
   "execution_count": 36,
   "metadata": {
    "collapsed": true
   },
   "outputs": [],
   "source": [
    "df_business.to_csv('business.csv', index=False)"
   ]
  },
  {
   "cell_type": "markdown",
   "metadata": {},
   "source": [
    "## Technology"
   ]
  },
  {
   "cell_type": "code",
   "execution_count": 37,
   "metadata": {
    "collapsed": true
   },
   "outputs": [],
   "source": [
    "getTechnologyData = nytQuerier('Google I/O', 'NASA', 'A.I.', 'iphone')"
   ]
  },
  {
   "cell_type": "code",
   "execution_count": 38,
   "metadata": {},
   "outputs": [],
   "source": [
    "technologyArticles = getArticles(getTechnologyData)"
   ]
  },
  {
   "cell_type": "code",
   "execution_count": 39,
   "metadata": {
    "collapsed": true
   },
   "outputs": [],
   "source": [
    "technology_label = len(technologyArticles) * ['technology']\n",
    "df_technology = pd.DataFrame(technologyArticles, technology_label).reset_index()\n",
    "df_technology.columns = ['label', \"text\"]"
   ]
  },
  {
   "cell_type": "code",
   "execution_count": 40,
   "metadata": {
    "collapsed": true
   },
   "outputs": [],
   "source": [
    "df_technology.to_csv('tech.csv', index=False)"
   ]
  },
  {
   "cell_type": "markdown",
   "metadata": {},
   "source": [
    "## Combine All"
   ]
  },
  {
   "cell_type": "code",
   "execution_count": 41,
   "metadata": {
    "collapsed": true
   },
   "outputs": [],
   "source": [
    "combined = df_politics.append([df_sports, df_business, df_technology])"
   ]
  },
  {
   "cell_type": "code",
   "execution_count": 42,
   "metadata": {
    "collapsed": true
   },
   "outputs": [],
   "source": [
    "combined.to_csv('data.csv', index=False)"
   ]
  },
  {
   "cell_type": "code",
   "execution_count": null,
   "metadata": {
    "collapsed": true
   },
   "outputs": [],
   "source": []
  }
 ],
 "metadata": {
  "kernelspec": {
   "display_name": "Python 3",
   "language": "python",
   "name": "python3"
  },
  "language_info": {
   "codemirror_mode": {
    "name": "ipython",
    "version": 3
   },
   "file_extension": ".py",
   "mimetype": "text/x-python",
   "name": "python",
   "nbconvert_exporter": "python",
   "pygments_lexer": "ipython3",
   "version": "3.6.6"
  }
 },
 "nbformat": 4,
 "nbformat_minor": 2
}
